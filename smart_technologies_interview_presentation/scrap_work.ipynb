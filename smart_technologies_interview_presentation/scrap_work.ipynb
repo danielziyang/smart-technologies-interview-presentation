{
 "cells": [
  {
   "cell_type": "markdown",
   "metadata": {},
   "source": [
    "Even more disorganized than the rough work! Wrote some custom transformers and wanted to test them out with sklearn's pipelines.\n",
    "\n",
    "I've always manually manipulated features, gonna try to automate some part of the process."
   ]
  },
  {
   "cell_type": "code",
   "execution_count": 1,
   "metadata": {},
   "outputs": [
    {
     "name": "stdout",
     "output_type": "stream",
     "text": [
      "   work_year experience_level employment_type                   job_title  \\\n",
      "0       2020               MI              FT              Data Scientist   \n",
      "1       2020               SE              FT  Machine Learning Scientist   \n",
      "2       2020               SE              FT           Big Data Engineer   \n",
      "3       2020               MI              FT        Product Data Analyst   \n",
      "4       2020               SE              FT   Machine Learning Engineer   \n",
      "\n",
      "   salary salary_currency  salary_in_usd employee_residence  remote_ratio  \\\n",
      "0   70000             EUR          79833                 DE             0   \n",
      "1  260000             USD         260000                 JP             0   \n",
      "2   85000             GBP         109024                 GB            50   \n",
      "3   20000             USD          20000                 HN             0   \n",
      "4  150000             USD         150000                 US            50   \n",
      "\n",
      "  company_location company_size  \n",
      "0               DE            L  \n",
      "1               JP            S  \n",
      "2               GB            M  \n",
      "3               HN            S  \n",
      "4               US            L  \n"
     ]
    }
   ],
   "source": [
    "import pandas as pd\n",
    "import numpy as np \n",
    "from sklearn.pipeline import Pipeline\n",
    "from helper_class_and_functions import JobTitleTransformer\n",
    "\n",
    "data = pd.read_csv(\"ds_salaries.csv\", index_col=0)\n",
    "print(data.head())"
   ]
  },
  {
   "cell_type": "code",
   "execution_count": 2,
   "metadata": {},
   "outputs": [
    {
     "name": "stdout",
     "output_type": "stream",
     "text": [
      "   work_year experience_level employment_type  salary salary_currency  \\\n",
      "0       2020               MI              FT   70000             EUR   \n",
      "1       2020               SE              FT  260000             USD   \n",
      "2       2020               SE              FT   85000             GBP   \n",
      "3       2020               MI              FT   20000             USD   \n",
      "4       2020               SE              FT  150000             USD   \n",
      "\n",
      "   salary_in_usd employee_residence  remote_ratio company_location  \\\n",
      "0          79833                 DE             0               DE   \n",
      "1         260000                 JP             0               JP   \n",
      "2         109024                 GB            50               GB   \n",
      "3          20000                 HN             0               HN   \n",
      "4         150000                 US            50               US   \n",
      "\n",
      "  company_size  job_group  \n",
      "0            L  Scientist  \n",
      "1            S  Scientist  \n",
      "2            M   Engineer  \n",
      "3            S    Analyst  \n",
      "4            L   Engineer  \n"
     ]
    }
   ],
   "source": [
    "test_pipeline = Pipeline([\n",
    "    ('job', JobTitleTransformer()) \n",
    "])\n",
    "\n",
    "data = test_pipeline.fit_transform(data) \n",
    "print(data.head())"
   ]
  }
 ],
 "metadata": {
  "kernelspec": {
   "display_name": "Python 3.10.5 ('smart-technologies-interview-presentation-FMutRnCN-py3.10')",
   "language": "python",
   "name": "python3"
  },
  "language_info": {
   "codemirror_mode": {
    "name": "ipython",
    "version": 3
   },
   "file_extension": ".py",
   "mimetype": "text/x-python",
   "name": "python",
   "nbconvert_exporter": "python",
   "pygments_lexer": "ipython3",
   "version": "3.10.5"
  },
  "orig_nbformat": 4,
  "vscode": {
   "interpreter": {
    "hash": "fb528e9c30e2d78afded1a647bc0740a5d4d61aa66e4d1206b02772f4e3b4da4"
   }
  }
 },
 "nbformat": 4,
 "nbformat_minor": 2
}
